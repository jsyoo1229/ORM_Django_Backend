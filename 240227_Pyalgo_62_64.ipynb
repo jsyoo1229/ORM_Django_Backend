{
  "nbformat": 4,
  "nbformat_minor": 0,
  "metadata": {
    "colab": {
      "provenance": [],
      "authorship_tag": "ABX9TyN7p63y6O3clWHNVwPgGfTx",
      "include_colab_link": true
    },
    "kernelspec": {
      "name": "python3",
      "display_name": "Python 3"
    },
    "language_info": {
      "name": "python"
    }
  },
  "cells": [
    {
      "cell_type": "markdown",
      "metadata": {
        "id": "view-in-github",
        "colab_type": "text"
      },
      "source": [
        "<a href=\"https://colab.research.google.com/github/jsyoo1229/ORM_Django_Backend/blob/main/240227_Pyalgo_62_64.ipynb\" target=\"_parent\"><img src=\"https://colab.research.google.com/assets/colab-badge.svg\" alt=\"Open In Colab\"/></a>"
      ]
    },
    {
      "cell_type": "markdown",
      "source": [
        "###62번"
      ],
      "metadata": {
        "id": "6dEX6--n-rrM"
      }
    },
    {
      "cell_type": "code",
      "source": [
        "from collections import deque\n",
        "\n",
        "def solution(max_size, data):\n",
        "    result = []\n",
        "    dq = deque(maxlen = max_size)\n",
        "\n",
        "    for i in data:\n",
        "        dq.append(i)\n",
        "        result.append(list(dq))\n",
        "\n",
        "    return result"
      ],
      "metadata": {
        "id": "aB1BslFbDYbD"
      },
      "execution_count": null,
      "outputs": []
    },
    {
      "cell_type": "code",
      "source": [
        "from collections import deque\n",
        "\n",
        "def solution(data, max_size):\n",
        "    dq = deque(maxlen=max_size)  # 데큐의 최대 크기 설정\n",
        "    result = []\n",
        "\n",
        "    for item in data:\n",
        "        dq.append(item)  # 새 요소 추가\n",
        "        result.append(list(dq))  # 현재 데큐 상태를 결과 리스트에 추가\n",
        "\n",
        "    return result"
      ],
      "metadata": {
        "id": "WQzbC4N--3OF"
      },
      "execution_count": null,
      "outputs": []
    },
    {
      "cell_type": "markdown",
      "source": [
        "###63번"
      ],
      "metadata": {
        "id": "xhvD1OViFdJ_"
      }
    },
    {
      "cell_type": "code",
      "source": [
        "def solution(str, n):\n",
        "   result = []\n",
        "   for i in range(len(str)-(n-1)):\n",
        "     str[i:i+n]\n",
        "     result.append(str[i:i+n])\n",
        "\n",
        "   return result\n",
        "\n",
        "str = \"hello\"\n",
        "n = 2\n",
        "\n",
        "str =\"world\"\n",
        "n = 3\n",
        "\n",
        "str = \"python\"\n",
        "n= 5\n",
        "solution(str, n)"
      ],
      "metadata": {
        "colab": {
          "base_uri": "https://localhost:8080/"
        },
        "id": "RPAYI4nsFe-b",
        "outputId": "7db8b286-1ed1-4333-fc61-04580542849b"
      },
      "execution_count": null,
      "outputs": [
        {
          "output_type": "execute_result",
          "data": {
            "text/plain": [
              "['pytho', 'ython']"
            ]
          },
          "metadata": {},
          "execution_count": 10
        }
      ]
    }
  ]
}