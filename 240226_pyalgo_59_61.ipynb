{
  "nbformat": 4,
  "nbformat_minor": 0,
  "metadata": {
    "colab": {
      "provenance": [],
      "authorship_tag": "ABX9TyPeKx7R5cZBZ6+d1ToJMYgc",
      "include_colab_link": true
    },
    "kernelspec": {
      "name": "python3",
      "display_name": "Python 3"
    },
    "language_info": {
      "name": "python"
    }
  },
  "cells": [
    {
      "cell_type": "markdown",
      "metadata": {
        "id": "view-in-github",
        "colab_type": "text"
      },
      "source": [
        "<a href=\"https://colab.research.google.com/github/jsyoo1229/ORM_Django_Backend/blob/main/240226_pyalgo_59_61.ipynb\" target=\"_parent\"><img src=\"https://colab.research.google.com/assets/colab-badge.svg\" alt=\"Open In Colab\"/></a>"
      ]
    },
    {
      "cell_type": "markdown",
      "source": [
        "#59번"
      ],
      "metadata": {
        "id": "qGijN2Hicl7O"
      }
    },
    {
      "cell_type": "code",
      "source": [
        "def solution(matrix, condition):\n",
        "    result = []                 #빈 리스트\n",
        "    for row in matrix:          #중첩 반복문(행렬 문제풀이의 핵심)\n",
        "        for element in row:\n",
        "            if element >= condition:   #조건 필터링\n",
        "                result.append(element)\n",
        "\n",
        "    l = len(result)\n",
        "    s = sum(result)\n",
        "\n",
        "    return  f'개수: {l}, 합: {s}'\n",
        "\n",
        "\n",
        "solution([[1, 2, 3], [4, 5, 6], [7, 8, 9]], 5)\n",
        "\n"
      ],
      "metadata": {
        "colab": {
          "base_uri": "https://localhost:8080/",
          "height": 35
        },
        "id": "btLmLQF0a3cQ",
        "outputId": "1236fd33-0073-439b-92fb-73b0348d349c"
      },
      "execution_count": 2,
      "outputs": [
        {
          "output_type": "execute_result",
          "data": {
            "text/plain": [
              "'개수: 5, 합: 35'"
            ],
            "application/vnd.google.colaboratory.intrinsic+json": {
              "type": "string"
            }
          },
          "metadata": {},
          "execution_count": 2
        }
      ]
    },
    {
      "cell_type": "markdown",
      "source": [
        "###60번"
      ],
      "metadata": {
        "id": "cFRQ37kSYShx"
      }
    },
    {
      "cell_type": "code",
      "source": [
        "# 입출력 예\n",
        "# 입력 (행렬, 범위)\t출력 (범위 내 요소의 최대값, 최소값)\n",
        "([[1, 2, 3], [4, 5, 6], [7, 8, 9]], (3, 7))\t(7, 3)\n",
        "([[10, 21], [32, 45]], (20, 40))\t(40, 21)"
      ],
      "metadata": {
        "id": "jzSAoTpOdfjU"
      },
      "execution_count": null,
      "outputs": []
    },
    {
      "cell_type": "code",
      "source": [
        "def solution(mat, con):\n",
        "    result = []\n",
        "    for row in mat:\n",
        "        for ele in row:\n",
        "            if ele >= con[0] and ele <=con[1]:\n",
        "                result.append(ele)\n",
        "\n",
        "    if not result:\n",
        "        return 'No elements in the matrix satisfy the condition.'\n",
        "\n",
        "    x = max(result)\n",
        "    n = min(result)\n",
        "\n",
        "    return f'최대값: {x}, 최소값: {n}'\n",
        "\n",
        "mat = [[1, 2, 3], [4, 5, 6], [7, 8, 9]]\n",
        "con = (3, 7)\n",
        "\n",
        "solution(mat, con)\n"
      ],
      "metadata": {
        "colab": {
          "base_uri": "https://localhost:8080/",
          "height": 35
        },
        "id": "l5hBFu7Xdm3i",
        "outputId": "bb7b385b-a0a2-4709-e003-a9500d773530"
      },
      "execution_count": 6,
      "outputs": [
        {
          "output_type": "execute_result",
          "data": {
            "text/plain": [
              "'최대값: 7, 최소값: 3'"
            ],
            "application/vnd.google.colaboratory.intrinsic+json": {
              "type": "string"
            }
          },
          "metadata": {},
          "execution_count": 6
        }
      ]
    },
    {
      "cell_type": "markdown",
      "source": [
        "###61번"
      ],
      "metadata": {
        "id": "cSKYddNolaGw"
      }
    },
    {
      "cell_type": "code",
      "source": [
        "from collections import deque     #deque import\n",
        "\n",
        "def solution(ele, com):\n",
        "    dq = deque(ele)    #deque 초기화\n",
        "    for c in com:       #이동 명령 반복\n",
        "        direction, n = c   #각 이동 명령 요소 언패킹\n",
        "\n",
        "        if direction == '왼쪽':\n",
        "            for _ in range(min(n, len(dq))):   #데큐(dq)의 길이가 n보다 작으면 IndexError 발생\n",
        "                dq.popletf()                   #최대 한계값이 데큐(dq)의 길이\n",
        "\n",
        "        else:\n",
        "            for _ in range(min(n, len(dq))):\n",
        "                dq.pop()\n",
        "\n",
        "    return list(dq)\n",
        "\n"
      ],
      "metadata": {
        "id": "h95yPaUQly2X"
      },
      "execution_count": 9,
      "outputs": []
    },
    {
      "cell_type": "code",
      "source": [
        "from collections import deque\n",
        "\n",
        "def solution(deque_elements, commands):\n",
        "    dq = deque(deque_elements)  # 데큐 초기화\n",
        "    for command in commands:\n",
        "        direction, n = command\n",
        "        if direction == '왼쪽':\n",
        "            for _ in range(min(n, len(dq))):  # 데큐의 길이와 n 중 작은 값만큼 반복\n",
        "                dq.popleft()\n",
        "        else:  # '오른쪽' 이동\n",
        "            for _ in range(min(n, len(dq))):\n",
        "                dq.pop()\n",
        "    return list(dq)\n"
      ],
      "metadata": {
        "id": "2DnVCE5Slb-O"
      },
      "execution_count": null,
      "outputs": []
    }
  ]
}