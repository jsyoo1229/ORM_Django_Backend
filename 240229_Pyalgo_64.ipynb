{
  "nbformat": 4,
  "nbformat_minor": 0,
  "metadata": {
    "colab": {
      "provenance": [],
      "authorship_tag": "ABX9TyMq8nN1kYGl8SYNZzyMlLR3",
      "include_colab_link": true
    },
    "kernelspec": {
      "name": "python3",
      "display_name": "Python 3"
    },
    "language_info": {
      "name": "python"
    }
  },
  "cells": [
    {
      "cell_type": "markdown",
      "metadata": {
        "id": "view-in-github",
        "colab_type": "text"
      },
      "source": [
        "<a href=\"https://colab.research.google.com/github/jsyoo1229/ORM_Django_Backend/blob/main/240229_Pyalgo_64.ipynb\" target=\"_parent\"><img src=\"https://colab.research.google.com/assets/colab-badge.svg\" alt=\"Open In Colab\"/></a>"
      ]
    },
    {
      "cell_type": "markdown",
      "source": [
        "###64번"
      ],
      "metadata": {
        "id": "pKmvnuQPbkoP"
      }
    },
    {
      "cell_type": "code",
      "execution_count": null,
      "metadata": {
        "colab": {
          "base_uri": "https://localhost:8080/"
        },
        "id": "qSTpweNbtJOv",
        "outputId": "4b607ca9-6bd9-4c50-da25-5ee1a346bd80"
      },
      "outputs": [
        {
          "output_type": "execute_result",
          "data": {
            "text/plain": [
              "3"
            ]
          },
          "metadata": {},
          "execution_count": 36
        }
      ],
      "source": [
        "def solution(str, pattern):\n",
        "    count = 0\n",
        "    len_str = len(str)\n",
        "    len_p = len(pattern)\n",
        "    num = len_str // len_p\n",
        "\n",
        "    for i in range(num): #0-5\n",
        "        if pattern in str[(i*len_p) : len_str]: # 1*1 : 6\n",
        "            count += 1\n",
        "\n",
        "    return count\n",
        "\n",
        "str = \"ababab\"\n",
        "pattern = \"ab\"\n",
        "\n",
        "\n",
        "solution(str, pattern)"
      ]
    },
    {
      "cell_type": "code",
      "source": [
        "str = \"ababab\"\n",
        "pattern = \"a\"\n",
        "\n",
        "num = len(str) // len(pattern)\n",
        "len(pattern)\n",
        "# for i in range(num):\n",
        "#     print(i)"
      ],
      "metadata": {
        "colab": {
          "base_uri": "https://localhost:8080/"
        },
        "id": "bOyWLIcOyWfG",
        "outputId": "2ac95047-3140-4515-8173-6bfdc69ee947"
      },
      "execution_count": null,
      "outputs": [
        {
          "output_type": "execute_result",
          "data": {
            "text/plain": [
              "1"
            ]
          },
          "metadata": {},
          "execution_count": 34
        }
      ]
    }
  ]
}