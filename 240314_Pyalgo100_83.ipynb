{
  "nbformat": 4,
  "nbformat_minor": 0,
  "metadata": {
    "colab": {
      "provenance": [],
      "authorship_tag": "ABX9TyPEbheFUoFVbU3T0ObnIrC4",
      "include_colab_link": true
    },
    "kernelspec": {
      "name": "python3",
      "display_name": "Python 3"
    },
    "language_info": {
      "name": "python"
    }
  },
  "cells": [
    {
      "cell_type": "markdown",
      "metadata": {
        "id": "view-in-github",
        "colab_type": "text"
      },
      "source": [
        "<a href=\"https://colab.research.google.com/github/jsyoo1229/ORM_Django_Backend/blob/main/240314_Pyalgo100_83.ipynb\" target=\"_parent\"><img src=\"https://colab.research.google.com/assets/colab-badge.svg\" alt=\"Open In Colab\"/></a>"
      ]
    },
    {
      "cell_type": "markdown",
      "source": [
        "##83번"
      ],
      "metadata": {
        "id": "KApW7pLzT8dq"
      }
    },
    {
      "cell_type": "code",
      "source": [
        "def calculate_max_credits(lectures):\n",
        "    # 강의를 끝나는 시간 기준으로 정렬\n",
        "    sorted_lectures = sorted(lectures, key=lambda x: x[\"end\"])\n",
        "    max_credits = 0\n",
        "    last_end_time = \"00:00\"\n",
        "\n",
        "    for lecture in sorted_lectures:\n",
        "        # 이전 강의가 끝난 시간과 현재 강의의 시작 시간을 비교\n",
        "        if lecture[\"start\"] >= last_end_time:\n",
        "            max_credits += lecture[\"credit\"]\n",
        "            last_end_time = lecture[\"end\"]\n",
        "\n",
        "    return max_credits"
      ],
      "metadata": {
        "id": "ni-pvR37UECN"
      },
      "execution_count": null,
      "outputs": []
    }
  ]
}