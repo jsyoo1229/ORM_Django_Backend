{
  "cells": [
    {
      "cell_type": "markdown",
      "metadata": {
        "colab_type": "text",
        "id": "view-in-github"
      },
      "source": [
        "<a href=\"https://colab.research.google.com/github/jsyoo1229/ORM_Django_Backend/blob/main/240320_DRF_%ED%95%B5%EC%8B%AC%EA%B0%9C%EB%85%90.ipynb\" target=\"_parent\"><img src=\"https://colab.research.google.com/assets/colab-badge.svg\" alt=\"Open In Colab\"/></a>"
      ]
    },
    {
      "cell_type": "markdown",
      "metadata": {
        "id": "CcGFNMT0V3lB"
      },
      "source": [
        "##managers.py와 models.py의 핵심 개념 정리"
      ]
    },
    {
      "cell_type": "code",
      "execution_count": null,
      "metadata": {
        "id": "tF48jsKWOEUb"
      },
      "outputs": [],
      "source": [
        "1. BaseUserManager:\n",
        "Django에서 제공하는 기본 사용자 모델 관리자 클래스\n",
        "\n",
        "1) 속성\n",
        "- create_user:\n",
        "일반 사용자 계정 생성\n",
        "\n",
        "- create_superuser:\n",
        "관리자 계정 생성\n",
        "\n",
        "2) 필드\n",
        "- is_staff\n",
        "- is_superuser\n",
        "- normalize_email(email):\n",
        "이메일 주소를 정규화하는 메소드\n",
        "\n",
        "2. gettext_lazy\n",
        "1) 번역\n",
        "2) 레이블\n",
        "\n",
        "3. **extra_fields:\n",
        "사용자를 생성할 때 추가적으로 설정할 수 있는 필드와 그 값을 포함하는 dictionary\n",
        "\n",
        "4. AbstractUser:\n",
        "Django에서 제공하는 사용자 모델의 추상 기반 클래스\n",
        "\n",
        "1) 속성\n",
        "username\n",
        "email\n",
        "password\n",
        "is_staff\n",
        "is_active\n",
        "is_superuser\n",
        "\n",
        "2) 메서드\n",
        "set_password\n",
        "check_password\n",
        "is_authenticated"
      ]
    }
  ],
  "metadata": {
    "colab": {
      "authorship_tag": "ABX9TyOuqRzDtdzt/J41qaKDH5TZ",
      "include_colab_link": true,
      "provenance": []
    },
    "kernelspec": {
      "display_name": "Python 3",
      "name": "python3"
    },
    "language_info": {
      "name": "python"
    }
  },
  "nbformat": 4,
  "nbformat_minor": 0
}
