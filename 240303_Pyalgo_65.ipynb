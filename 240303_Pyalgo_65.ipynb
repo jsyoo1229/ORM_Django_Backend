{
  "nbformat": 4,
  "nbformat_minor": 0,
  "metadata": {
    "colab": {
      "provenance": [],
      "authorship_tag": "ABX9TyN7R1I86/OuTN262EhNgWin",
      "include_colab_link": true
    },
    "kernelspec": {
      "name": "python3",
      "display_name": "Python 3"
    },
    "language_info": {
      "name": "python"
    }
  },
  "cells": [
    {
      "cell_type": "markdown",
      "metadata": {
        "id": "view-in-github",
        "colab_type": "text"
      },
      "source": [
        "<a href=\"https://colab.research.google.com/github/jsyoo1229/ORM_Django_Backend/blob/main/240303_Pyalgo_65.ipynb\" target=\"_parent\"><img src=\"https://colab.research.google.com/assets/colab-badge.svg\" alt=\"Open In Colab\"/></a>"
      ]
    },
    {
      "cell_type": "markdown",
      "source": [
        "##65번"
      ],
      "metadata": {
        "id": "9L-sRXsPygaw"
      }
    },
    {
      "cell_type": "code",
      "execution_count": 7,
      "metadata": {
        "colab": {
          "base_uri": "https://localhost:8080/"
        },
        "id": "E1E90tdUtI7b",
        "outputId": "0e0ae853-48fc-4f85-bc41-eef318c8da4f"
      },
      "outputs": [
        {
          "output_type": "execute_result",
          "data": {
            "text/plain": [
              "['llohe']"
            ]
          },
          "metadata": {},
          "execution_count": 7
        }
      ],
      "source": [
        "def solution(str, n):\n",
        "    l = []\n",
        "    len_str = len(str)\n",
        "\n",
        "    cutted1= str[0:len_str-n]\n",
        "\n",
        "    cutted2 = str[len_str-n : len_str]\n",
        "    cutted2\n",
        "\n",
        "    l.append(cutted2+cutted1)\n",
        "    # l.append(cutted1)\n",
        "\n",
        "    return l\n",
        "\n",
        "str = 'hello'\n",
        "n = 3\n",
        "\n",
        "solution(str, n)\n"
      ]
    }
  ]
}